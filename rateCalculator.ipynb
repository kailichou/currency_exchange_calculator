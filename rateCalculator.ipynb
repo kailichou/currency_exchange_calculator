{
 "cells": [
  {
   "cell_type": "code",
   "execution_count": 1,
   "metadata": {},
   "outputs": [],
   "source": [
    "from bs4 import BeautifulSoup as soup\n",
    "from urllib.request import urlopen as uReq\n",
    "import pandas as pd"
   ]
  },
  {
   "cell_type": "code",
   "execution_count": 3,
   "metadata": {},
   "outputs": [],
   "source": [
    "container = [] #global variable so we can use after running def function\n",
    "def crawler(self):\n",
    "    \"\"\"\n",
    "    The crawler will scrape from x-rates.com and collect Top 10 exchange rates.\n",
    "    The rates will be renew on a daily basis.\n",
    "    \"\"\" \n",
    "    url = 'https://www.x-rates.com/table/?from=USD&amount=1'\n",
    "    webpage = uReq(self).read()\n",
    "    html = soup(webpage, \"html.parser\")\n",
    "\n",
    "    for containers in html.find_all(\"tr\", limit = 11):\n",
    "        container.append(str(containers.text.strip()))"
   ]
  },
  {
   "cell_type": "code",
   "execution_count": 4,
   "metadata": {},
   "outputs": [],
   "source": [
    "crawler(url)"
   ]
  },
  {
   "cell_type": "code",
   "execution_count": 5,
   "metadata": {},
   "outputs": [
    {
     "data": {
      "text/plain": [
       "str"
      ]
     },
     "execution_count": 5,
     "metadata": {},
     "output_type": "execute_result"
    }
   ],
   "source": [
    "type(container[0])"
   ]
  },
  {
   "cell_type": "code",
   "execution_count": 6,
   "metadata": {},
   "outputs": [
    {
     "data": {
      "text/plain": [
       "[['US Dollar', '1.00 USD', 'inv. 1.00 USD'],\n",
       " ['Euro', '0.901958', '1.108699'],\n",
       " ['British Pound', '0.772775', '1.294037'],\n",
       " ['Indian Rupee', '71.204596', '0.014044'],\n",
       " ['Australian Dollar', '1.445776', '0.691670'],\n",
       " ['Canadian Dollar', '1.315594', '0.760113'],\n",
       " ['Singapore Dollar', '1.355729', '0.737610'],\n",
       " ['Swiss Franc', '0.982380', '1.017937'],\n",
       " ['Malaysian Ringgit', '4.140253', '0.241531'],\n",
       " ['Japanese Yen', '109.395821', '0.009141'],\n",
       " ['Chinese Yuan Renminbi', '7.011606', '0.142621']]"
      ]
     },
     "execution_count": 6,
     "metadata": {},
     "output_type": "execute_result"
    }
   ],
   "source": [
    "rates = [i.split('\\n') for i in container]\n",
    "rates"
   ]
  },
  {
   "cell_type": "code",
   "execution_count": 13,
   "metadata": {},
   "outputs": [
    {
     "data": {
      "text/html": [
       "<div>\n",
       "<style scoped>\n",
       "    .dataframe tbody tr th:only-of-type {\n",
       "        vertical-align: middle;\n",
       "    }\n",
       "\n",
       "    .dataframe tbody tr th {\n",
       "        vertical-align: top;\n",
       "    }\n",
       "\n",
       "    .dataframe thead th {\n",
       "        text-align: right;\n",
       "    }\n",
       "</style>\n",
       "<table border=\"1\" class=\"dataframe\">\n",
       "  <thead>\n",
       "    <tr style=\"text-align: right;\">\n",
       "      <th></th>\n",
       "      <th>1.00 USD</th>\n",
       "      <th>inv. 1.00 USD</th>\n",
       "    </tr>\n",
       "    <tr>\n",
       "      <th>US Dollar</th>\n",
       "      <th></th>\n",
       "      <th></th>\n",
       "    </tr>\n",
       "  </thead>\n",
       "  <tbody>\n",
       "    <tr>\n",
       "      <td>Euro</td>\n",
       "      <td>0.901958</td>\n",
       "      <td>1.108699</td>\n",
       "    </tr>\n",
       "    <tr>\n",
       "      <td>British Pound</td>\n",
       "      <td>0.772775</td>\n",
       "      <td>1.294037</td>\n",
       "    </tr>\n",
       "    <tr>\n",
       "      <td>Indian Rupee</td>\n",
       "      <td>71.204596</td>\n",
       "      <td>0.014044</td>\n",
       "    </tr>\n",
       "    <tr>\n",
       "      <td>Australian Dollar</td>\n",
       "      <td>1.445776</td>\n",
       "      <td>0.691670</td>\n",
       "    </tr>\n",
       "    <tr>\n",
       "      <td>Canadian Dollar</td>\n",
       "      <td>1.315594</td>\n",
       "      <td>0.760113</td>\n",
       "    </tr>\n",
       "    <tr>\n",
       "      <td>Singapore Dollar</td>\n",
       "      <td>1.355729</td>\n",
       "      <td>0.737610</td>\n",
       "    </tr>\n",
       "    <tr>\n",
       "      <td>Swiss Franc</td>\n",
       "      <td>0.982380</td>\n",
       "      <td>1.017937</td>\n",
       "    </tr>\n",
       "    <tr>\n",
       "      <td>Malaysian Ringgit</td>\n",
       "      <td>4.140253</td>\n",
       "      <td>0.241531</td>\n",
       "    </tr>\n",
       "    <tr>\n",
       "      <td>Japanese Yen</td>\n",
       "      <td>109.395821</td>\n",
       "      <td>0.009141</td>\n",
       "    </tr>\n",
       "    <tr>\n",
       "      <td>Chinese Yuan Renminbi</td>\n",
       "      <td>7.011606</td>\n",
       "      <td>0.142621</td>\n",
       "    </tr>\n",
       "  </tbody>\n",
       "</table>\n",
       "</div>"
      ],
      "text/plain": [
       "                         1.00 USD inv. 1.00 USD\n",
       "US Dollar                                      \n",
       "Euro                     0.901958      1.108699\n",
       "British Pound            0.772775      1.294037\n",
       "Indian Rupee            71.204596      0.014044\n",
       "Australian Dollar        1.445776      0.691670\n",
       "Canadian Dollar          1.315594      0.760113\n",
       "Singapore Dollar         1.355729      0.737610\n",
       "Swiss Franc              0.982380      1.017937\n",
       "Malaysian Ringgit        4.140253      0.241531\n",
       "Japanese Yen           109.395821      0.009141\n",
       "Chinese Yuan Renminbi    7.011606      0.142621"
      ]
     },
     "execution_count": 13,
     "metadata": {},
     "output_type": "execute_result"
    }
   ],
   "source": [
    "rates_df = pd.DataFrame(rates, columns=rates[0])\n",
    "rates_df.set_index('US Dollar', inplace=True)\n",
    "rates_df = rates_df.drop('US Dollar')\n",
    "rates_df"
   ]
  },
  {
   "cell_type": "code",
   "execution_count": 17,
   "metadata": {},
   "outputs": [],
   "source": [
    "rates_df = rates_df[['1.00 USD','inv. 1.00 USD']].astype('float64')\n",
    "rates_df.dtypes\n",
    "rates_df.to_csv('rates.csv')"
   ]
  },
  {
   "cell_type": "markdown",
   "metadata": {},
   "source": [
    "Now, we have update-to-date exchange rates everytime after runing this python script. <3"
   ]
  }
 ],
 "metadata": {
  "kernelspec": {
   "display_name": "Python 3",
   "language": "python",
   "name": "python3"
  },
  "language_info": {
   "codemirror_mode": {
    "name": "ipython",
    "version": 3
   },
   "file_extension": ".py",
   "mimetype": "text/x-python",
   "name": "python",
   "nbconvert_exporter": "python",
   "pygments_lexer": "ipython3",
   "version": "3.7.4"
  }
 },
 "nbformat": 4,
 "nbformat_minor": 4
}
